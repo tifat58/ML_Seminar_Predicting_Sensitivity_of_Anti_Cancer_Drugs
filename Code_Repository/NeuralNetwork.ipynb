{
 "cells": [
  {
   "cell_type": "code",
   "execution_count": 417,
   "metadata": {
    "collapsed": true
   },
   "outputs": [],
   "source": [
    "# Library imports\n",
    "\n",
    "import tensorflow as tf\n",
    "import numpy as np\n",
    "from sklearn.datasets import make_classification\n",
    "from sklearn.model_selection import train_test_split\n",
    "from __future__ import print_function\n",
    "import tensorflow as tf\n",
    "import pandas as pd\n",
    "import numpy as np\n",
    "import matplotlib.pyplot as plt"
   ]
  },
  {
   "cell_type": "code",
   "execution_count": 521,
   "metadata": {},
   "outputs": [
    {
     "name": "stdout",
     "output_type": "stream",
     "text": [
      "test_data_X.shape (897, 50)\n",
      "test_resp.shape (897, 1)\n",
      "test_data.shape (897, 51)\n"
     ]
    }
   ],
   "source": [
    "test_data_X = pd.read_excel('TestDataFeatureSelected.xlsx')\n",
    "test_data_Y = pd.read_excel('expression_CX-5461.xlsx').T\n",
    "\n",
    "\n",
    "test_data_Y.head()\n",
    "test_data_Y.iloc[:,-1]\n",
    "test_temp = test_data_Y.iloc[:,-1].as_matrix() \n",
    "test_resp = test_temp[1:][:].reshape((len(test_temp[1:][:]), 1))\n",
    "\n",
    "print(\"test_data_X.shape\", test_data_X.shape)\n",
    "print(\"test_resp.shape\", test_resp.shape)\n",
    "\n",
    "test_data = np.append(test_data_X, test_resp, axis = 1)\n",
    "\n",
    "print(\"test_data.shape\", test_data.shape)\n",
    "\n",
    "# # Generate tain and test data# Gener \n",
    "test_X = test_data_X.as_matrix() \n",
    "test_Y = test_resp"
   ]
  },
  {
   "cell_type": "code",
   "execution_count": 539,
   "metadata": {
    "scrolled": true
   },
   "outputs": [
    {
     "name": "stdout",
     "output_type": "stream",
     "text": [
      "data_X.shape (930, 50)\n",
      "resp.shape (930, 1)\n",
      "data.shape (930, 51)\n",
      "X.shape (729, 50)\n",
      "Y.shape (729, 1)\n",
      "test_X.shape (199, 50)\n",
      "test_Y.shape (199, 1)\n"
     ]
    }
   ],
   "source": [
    "# read the data from the excel\n",
    "\n",
    "# data_X = pd.read_excel('DataFeatureSelected.xlsx')\n",
    "# data_Y = pd.read_excel('expression_sn38.xlsx').T\n",
    "\n",
    "\n",
    "data_Y.head()\n",
    "data_Y.iloc[:,-1]\n",
    "temp = data_Y.iloc[:,-1].as_matrix() \n",
    "resp = temp[1:][:].reshape((len(temp[1:][:]), 1))\n",
    "\n",
    "print(\"data_X.shape\", data_X.shape)\n",
    "print(\"resp.shape\", resp.shape)\n",
    "\n",
    "data = np.append(data_X, resp, axis = 1)\n",
    "\n",
    "print(\"data.shape\", data.shape)\n",
    "\n",
    "# # Generate tain and test data# Gener \n",
    "X = data_X.as_matrix()[200:929][:]\n",
    "Y = resp[200:929]\n",
    "# X, X_test, Y, Y_test = train_test_split(X, Y)\n",
    "\n",
    "test_X = data_X.as_matrix()[0:199][:]\n",
    "test_Y = resp[0:199]\n",
    "\n",
    "print(\"X.shape\", X.shape)\n",
    "print(\"Y.shape\", Y.shape)\n",
    "\n",
    "print(\"test_X.shape\", test_X.shape)\n",
    "print(\"test_Y.shape\", test_Y.shape)"
   ]
  },
  {
   "cell_type": "code",
   "execution_count": 540,
   "metadata": {},
   "outputs": [
    {
     "name": "stdout",
     "output_type": "stream",
     "text": [
      "w1 <tf.Variable 'Variable_484:0' shape=(50, 50) dtype=float32_ref>\n",
      "b1 <tf.Variable 'Variable_487:0' shape=(1, 50) dtype=float32_ref>\n",
      "w2 <tf.Variable 'Variable_485:0' shape=(50, 50) dtype=float32_ref>\n",
      "b2 <tf.Variable 'Variable_488:0' shape=(1, 50) dtype=float32_ref>\n",
      "x.shape (?, 50)\n",
      "weights {'w1': <tf.Variable 'Variable_484:0' shape=(50, 50) dtype=float32_ref>, 'w2': <tf.Variable 'Variable_485:0' shape=(50, 50) dtype=float32_ref>, 'out': <tf.Variable 'Variable_486:0' shape=(50, 1) dtype=float32_ref>}\n"
     ]
    }
   ],
   "source": [
    "# Parameters\n",
    "learning_rate = 0.1\n",
    "training_epochs = 700\n",
    "batch_size = 20\n",
    "display_step = 100\n",
    "\n",
    "\n",
    "# Network Parameters\n",
    "n_hidden_1 = 50 # 1st layer number of features\n",
    "n_hidden_2 = 50 # 2nd layer number of features\n",
    "n_input = 50 # Number of feature\n",
    "n_classes = 1 # Number of classes to predict\n",
    "\n",
    "\n",
    "# tf Graph input and output\n",
    "x = tf.placeholder(\"float\", [None, n_input])\n",
    "y = tf.placeholder(\"float\", [None, None])\n",
    "\n",
    "# Create model\n",
    "def multilayer_perceptron(x, weights, biases):\n",
    "    \n",
    "    print(\"x.shape\", x.shape)\n",
    "    print(\"weights\", weights)\n",
    "    \n",
    "    # Hidden layer with RELU activation : changed to sigmoid\n",
    "    layer_1 = tf.add(tf.matmul(x, weights['w1']), biases['b1'])\n",
    "    layer_1 = tf.nn.sigmoid(layer_1)\n",
    "    \n",
    "    # Hidden layer with RELU activation :  changed to sigmoid\n",
    "    layer_2 = tf.add(tf.matmul(layer_1, weights['w2']), biases['b2'])\n",
    "    layer_2 = tf.nn.sigmoid(layer_2)\n",
    "    \n",
    "    # Output layer with linear activation \n",
    "    out_layer = tf.matmul(layer_2, weights['out']) + biases['out']\n",
    "    out_layer = tf.nn.sigmoid(out_layer)\n",
    "    \n",
    "    return out_layer\n",
    "    \n",
    "# Store layers weight & bias\n",
    "weights = {\n",
    "    'w1': tf.Variable(tf.random_normal([n_input, n_hidden_1])),\n",
    "    'w2': tf.Variable(tf.random_normal([n_hidden_1, n_hidden_2])),\n",
    "    'out': tf.Variable(tf.random_normal([n_hidden_2, n_classes]))\n",
    "}\n",
    "\n",
    "biases = {\n",
    "    'b1': tf.Variable(tf.random_normal([1, n_hidden_1])),\n",
    "    'b2': tf.Variable(tf.random_normal([1, n_hidden_2])),\n",
    "    'out': tf.Variable(tf.random_normal([1, n_classes]))\n",
    "}\n",
    "\n",
    "print(\"w1\", weights['w1'])\n",
    "print(\"b1\", biases['b1'])\n",
    "print(\"w2\", weights['w2'])\n",
    "print(\"b2\", biases['b2'])\n",
    "\n",
    "# Construct model\n",
    "pred = multilayer_perceptron(x, weights, biases)\n",
    "pred_b = pred > 0.5\n",
    "\n",
    "# Define loss and optimizer\n",
    "cost = tf.reduce_mean(tf.nn.sigmoid_cross_entropy_with_logits(logits=pred, labels=y))\n",
    "optimizer = tf.train.GradientDescentOptimizer(learning_rate=learning_rate).minimize(cost)\n",
    "\n",
    "# Initializing the variables\n",
    "init = tf.global_variables_initializer()"
   ]
  },
  {
   "cell_type": "code",
   "execution_count": 541,
   "metadata": {
    "scrolled": false
   },
   "outputs": [
    {
     "name": "stdout",
     "output_type": "stream",
     "text": [
      "Epoch: 0001 cost= 0.716912417\n",
      "Epoch: 0101 cost= 0.693221261\n",
      "Epoch: 0201 cost= 0.693183122\n",
      "Epoch: 0301 cost= 0.693170867\n",
      "Epoch: 0401 cost= 0.693164859\n",
      "Epoch: 0501 cost= 0.693161302\n",
      "Epoch: 0601 cost= 0.693158946\n",
      "Optimization Finished!\n",
      "Train Accuracy: 0.927298\n",
      "Test Accuracy: 0.919598\n"
     ]
    }
   ],
   "source": [
    "# Launch the graph\n",
    "with tf.Session() as sess:\n",
    "    sess.run(init)\n",
    "    # Training cycle\n",
    "    for epoch in range(training_epochs):\n",
    "        avg_cost = 0\n",
    "        total_batch = int(len(X)/batch_size) # batch size is 10, 10 * 93 = 930 \n",
    "        X_batches = np.array_split(X, total_batch)        \n",
    "        Y_batches = np.array_split(Y, total_batch)\n",
    "        \n",
    "        # Loop over all batches\n",
    "        for i in range(total_batch):\n",
    "            batch_x, batch_y = X_batches[i], Y_batches[i]\n",
    "            # Run optimization op (backprop) and cost op (to get loss value)\n",
    "#             print(\"batch_x\", batch_x)\n",
    "            \n",
    "    \n",
    "#             print(\"w1\", weights['w1'].shape)\n",
    "#             print(\"b1\", biases['b1'].shape)\n",
    "#             print(\"w2\", weights['w2'].shape)\n",
    "#             print(\"b2\", biases['b2'].shape)\n",
    "#             print(\"out_w\", weights['out'].shape)\n",
    "#             print(\"out_b\", biases['out'].shape)\n",
    "                \n",
    "#             print(\"out\", sess.run(weights['out']))\n",
    "#             outlayer_pred = pred.eval(feed_dict = {x: batch_x})\n",
    "#             print(\"outlayer_pred\", outlayer_pred)\n",
    "#             print(\"max\", outlayer_pred.max())\n",
    "#             print(\"min\", outlayer_pred.min())\n",
    "            \n",
    "\n",
    "            _, c = sess.run([optimizer, cost], feed_dict={x: batch_x,\n",
    "                                                          y: batch_y})\n",
    "\n",
    "#             print(\"cost c is \", c)\n",
    "            # Compute average loss\n",
    "            avg_cost += c / total_batch\n",
    "        # Display logs per epoch step\n",
    "        if epoch % display_step == 0:\n",
    "            print(\"Epoch:\", '%04d' % (epoch+1), \"cost=\", \"{:.9f}\".format(avg_cost))\n",
    "    print(\"Optimization Finished!\")\n",
    "    \n",
    "    \n",
    "    \n",
    "    \n",
    "    # Training accuracy\n",
    "    X_train = X\n",
    "    Y_train = Y\n",
    "\n",
    "    \n",
    "    # Test model on training data\n",
    "    correct_prediction = tf.equal(tf.cast(pred_b, \"float\"), y)\n",
    "#     print(\"correct prediction\", correct_prediction.eval({x: X_train, y: Y_train}))\n",
    "    # Calculate accuracy\n",
    "    accuracy = tf.reduce_mean(tf.cast(correct_prediction, \"float32\"))\n",
    "    print(\"Train Accuracy:\", accuracy.eval({x: X_train, y: Y_train}))\n",
    "    # global result \n",
    "#     result = tf.argmax(pred, 1).eval({x: X_train, y: Y_train})\n",
    "    \n",
    "    \n",
    "    # Test accuracy\n",
    "    # Test model on test data\n",
    "    \n",
    "    correct_prediction = tf.equal(tf.cast(pred_b, \"float32\"), y)\n",
    "#     print(\"correct prediction\", correct_prediction.eval({x: test_X, y: test_Y}))\n",
    "    # Calculate accuracy\n",
    "    accuracy = tf.reduce_mean(tf.cast(correct_prediction, \"float32\"))\n",
    "    print(\"Test Accuracy:\", accuracy.eval({x: test_X, y: test_Y}))\n",
    "    # global result \n",
    "#     result = tf.argmax(pred, 1).eval({x: test_X, y: test_Y})"
   ]
  },
  {
   "cell_type": "code",
   "execution_count": null,
   "metadata": {},
   "outputs": [],
   "source": [
    "Optimization Finished!\n",
    "Train Accuracy: 0.927298\n",
    "Test Accuracy: 0.919598"
   ]
  }
 ],
 "metadata": {
  "kernelspec": {
   "display_name": "Python 3",
   "language": "python",
   "name": "python3"
  },
  "language_info": {
   "codemirror_mode": {
    "name": "ipython",
    "version": 3
   },
   "file_extension": ".py",
   "mimetype": "text/x-python",
   "name": "python",
   "nbconvert_exporter": "python",
   "pygments_lexer": "ipython3",
   "version": "3.6.2"
  }
 },
 "nbformat": 4,
 "nbformat_minor": 2
}
